{
 "cells": [
  {
   "cell_type": "code",
   "execution_count": 1,
   "id": "5fc8e6f2",
   "metadata": {},
   "outputs": [
    {
     "name": "stderr",
     "output_type": "stream",
     "text": [
      "2023-03-21 14:49:03.306620: I tensorflow/core/platform/cpu_feature_guard.cc:193] This TensorFlow binary is optimized with oneAPI Deep Neural Network Library (oneDNN) to use the following CPU instructions in performance-critical operations:  AVX2 FMA\n",
      "To enable them in other operations, rebuild TensorFlow with the appropriate compiler flags.\n"
     ]
    }
   ],
   "source": [
    "import spacy\n",
    "from bertopic import BERTopic\n",
    "from sklearn.datasets import fetch_20newsgroups\n",
    "\n",
    "docs = fetch_20newsgroups(subset='all',  remove=('headers', 'footers', 'quotes'))['data']\n",
    "nlp = spacy.load('en_core_web_md', exclude=['tagger', 'parser', 'ner', 'attribute_ruler', 'lemmatizer'])\n",
    "\n"
   ]
  },
  {
   "cell_type": "code",
   "execution_count": 2,
   "id": "24c734b3",
   "metadata": {},
   "outputs": [
    {
     "name": "stdout",
     "output_type": "stream",
     "text": [
      "H\n"
     ]
    }
   ],
   "source": [
    "print(\"H\")"
   ]
  },
  {
   "cell_type": "code",
   "execution_count": 3,
   "id": "0c468e18",
   "metadata": {},
   "outputs": [],
   "source": [
    "topic_model = BERTopic(embedding_model=nlp)"
   ]
  },
  {
   "cell_type": "code",
   "execution_count": 4,
   "id": "3cdc9358",
   "metadata": {},
   "outputs": [],
   "source": [
    "docs = docs[:10]"
   ]
  },
  {
   "cell_type": "code",
   "execution_count": 5,
   "id": "4f30c63e",
   "metadata": {},
   "outputs": [
    {
     "data": {
      "text/plain": [
       "[\"\\n\\nI am sure some bashers of Pens fans are pretty confused about the lack\\nof any kind of posts about the recent Pens massacre of the Devils. Actually,\\nI am  bit puzzled too and a bit relieved. However, I am going to put an end\\nto non-PIttsburghers' relief with a bit of praise for the Pens. Man, they\\nare killing those Devils worse than I thought. Jagr just showed you why\\nhe is much better than his regular season stats. He is also a lot\\nfo fun to watch in the playoffs. Bowman should let JAgr have a lot of\\nfun in the next couple of games since the Pens are going to beat the pulp out of Jersey anyway. I was very disappointed not to see the Islanders lose the final\\nregular season game.          PENS RULE!!!\\n\\n\",\n",
       " 'My brother is in the market for a high-performance video card that supports\\nVESA local bus with 1-2MB RAM.  Does anyone have suggestions/ideas on:\\n\\n  - Diamond Stealth Pro Local Bus\\n\\n  - Orchid Farenheit 1280\\n\\n  - ATI Graphics Ultra Pro\\n\\n  - Any other high-performance VLB card\\n\\n\\nPlease post or email.  Thank you!\\n\\n  - Matt\\n',\n",
       " '\\n\\n\\n\\n\\tFinally you said what you dream about. Mediterranean???? That was new....\\n\\tThe area will be \"greater\" after some years, like your \"holocaust\" numbers......\\n\\n\\n\\n\\n\\t\\t*****\\n\\tIs\\'t July in USA now????? Here in Sweden it\\'s April and still cold.\\n\\tOr have you changed your calendar???\\n\\n\\n\\t\\t\\t\\t\\t\\t    ****************\\n\\t\\t\\t\\t\\t\\t    ******************\\n\\t\\t\\t    ***************\\n\\n\\n\\tNOTHING OF THE MENTIONED IS TRUE, BUT LET SAY IT\\'s TRUE.\\n\\t\\n\\tSHALL THE AZERI WOMEN AND CHILDREN GOING TO PAY THE PRICE WITH\\n\\t\\t\\t\\t\\t\\t    **************\\n\\tBEING RAPED, KILLED AND TORTURED BY THE ARMENIANS??????????\\n\\t\\n\\tHAVE YOU HEARDED SOMETHING CALLED: \"GENEVA CONVENTION\"???????\\n\\tYOU FACIST!!!!!\\n\\n\\n\\n\\tOhhh i forgot, this is how Armenians fight, nobody has forgot\\n\\tyou killings, rapings and torture against the Kurds and Turks once\\n\\tupon a time!\\n      \\n       \\n\\n\\nOhhhh so swedish RedCross workers do lie they too? What ever you say\\n\"regional killer\", if you don\\'t like the person then shoot him that\\'s your policy.....l\\n\\n\\n\\t\\t\\t\\t\\t\\t\\t\\t\\t\\ti\\n\\t\\t\\t\\t\\t\\t\\t\\t\\t\\ti\\n\\t\\t\\t\\t\\t\\t\\t\\t\\t\\ti\\n\\tConfused?????\\t\\t\\t\\t\\t\\t\\t\\ti\\n\\t\\t\\t\\t\\t\\t\\t\\t\\t\\ti\\n        Search Turkish planes? You don\\'t know what you are talking about.\\ti\\n        Turkey\\'s government has announced that it\\'s giving weapons  <-----------i\\n        to Azerbadjan since Armenia started to attack Azerbadjan\\t\\t\\n        it self, not the Karabag province. So why search a plane for weapons\\t\\n        since it\\'s content is announced to be weapons?   \\n\\n\\tIf there is one that\\'s confused then that\\'s you! We have the right (and we do)\\n\\tto give weapons to the Azeris, since Armenians started the fight in Azerbadjan!\\n \\n\\n\\n\\tShoot down with what? Armenian bread and butter? Or the arms and personel \\n\\tof the Russian army?\\n\\n\\n',\n",
       " \"\\nThink!\\n\\nIt's the SCSI card doing the DMA transfers NOT the disks...\\n\\nThe SCSI card can do DMA transfers containing data from any of the SCSI devices\\nit is attached when it wants to.\\n\\nAn important feature of SCSI is the ability to detach a device. This frees the\\nSCSI bus for other devices. This is typically used in a multi-tasking OS to\\nstart transfers on several devices. While each device is seeking the data the\\nbus is free for other commands and data transfers. When the devices are\\nready to transfer the data they can aquire the bus and send the data.\\n\\nOn an IDE bus when you start a transfer the bus is busy until the disk has seeked\\nthe data and transfered it. This is typically a 10-20ms second lock out for other\\nprocesses wanting the bus irrespective of transfer time.\\n\",\n",
       " '1)    I have an old Jasmine drive which I cannot use with my new system.\\n My understanding is that I have to upsate the driver with a more modern\\none in order to gain compatability with system 7.0.1.  does anyone know\\nof an inexpensive program to do this?  ( I have seen formatters for <$20\\nbuit have no idea if they will work)\\n \\n2)     I have another ancient device, this one a tape drive for which\\nthe back utility freezes the system if I try to use it.  THe drive is a\\njasmine direct tape (bought used for $150 w/ 6 tapes, techmar\\nmechanism).  Essentially I have the same question as above, anyone know\\nof an inexpensive beckup utility I can use with system 7.0.1',\n",
       " '\\n\\nBack in high school I worked as a lab assistant for a bunch of experimental\\npsychologists at Bell Labs.  When they were doing visual perception and\\nmemory experiments, they used vector-type displays, with 1-millisecond\\nrefresh rates common.\\n\\nSo your case of 1/200th sec is quite practical, and the experimenters were\\nprobably sure that it was 5 milliseconds, not 4 or 6 either.\\n\\n\\nSteve',\n",
       " '\\n\\nAE is in Dallas...try 214/241-6060 or 214/241-0055.  Tech support may be on\\ntheir own line, but one of these should get you started.',\n",
       " \"\\n[stuff deleted]\\n\\nOk, here's the solution to your problem.  Move to Canada.  Yesterday I was able\\nto watch FOUR games...the NJ-PITT at 1:00 on ABC, LA-CAL at 3:00 (CBC), \\nBUFF-BOS at 7:00 (TSN and FOX), and MON-QUE at 7:30 (CBC).  I think that if\\neach series goes its max I could be watching hockey playoffs for 40-some odd\\nconsecutive nights (I haven't counted so that's a pure guess).\\n\\nI have two tv's in my house, and I set them up side-by-side to watch MON-QUE\\nand keep an eye on BOS-BUFF at the same time.  I did the same for the two\\nafternoon games.\\n\\nBtw, those ABC commentaters were great!  I was quite impressed; they seemed\\nto know that their audience wasn't likely to be well-schooled in hockey lore\\nand they did an excellent job.  They were quite impartial also, IMO.\\n\\n\",\n",
       " \"\\n\\n\\nYeah, it's the second one.  And I believe that price too.  I've been trying\\nto get a good look at it on the Bruin-Sabre telecasts, and wow! does it ever\\nlook good.  Whoever did that paint job knew what they were doing.  And given\\nFuhr's play since he got it, I bet the Bruins are wishing he didn't have it:)\\n\",\n",
       " '\\nIf a Christian means someone who believes in the divinity of Jesus, it is safe\\nto say that Jesus was a Christian.\\n--\\n\"On the first day after Christmas my truelove served to me...  Leftover Turkey!\\nOn the second day after Christmas my truelove served to me...  Turkey Casserole\\n    that she made from Leftover Turkey.\\n[days 3-4 deleted] ...  Flaming Turkey Wings! ...\\n   -- Pizza Hut commercial (and M*tlu/A*gic bait)']"
      ]
     },
     "execution_count": 5,
     "metadata": {},
     "output_type": "execute_result"
    }
   ],
   "source": [
    "docs"
   ]
  },
  {
   "cell_type": "code",
   "execution_count": 4,
   "id": "c2c870d1",
   "metadata": {},
   "outputs": [],
   "source": [
    "doc1 = \"FINGER NAILS   St. Germain, the well-known Frehch palmist, says: “The  modem physician, be he allopath, homeopath, or eclectic, has  long ago admitted that the colour, consistency, and heat of the  palm, as well as the form and thickness of the nail, are elements  he cannot afford to neglect when forming a diagnosis of any  patient's state of health. Besides, nails throw a flood of light  on the temper possessed by a person. It goes without saying  that a good temper is the most important mature in a person's  character. This may refer to four factors : anger, cheen ulness,  self-confidence and vindictiveness. While discussing nails, we  shall see what has been learnt about these characteristics from  an examination of the nails.   Nails and Health, As far as the science of cheiromomy is  concerned, the - size of the nail can be judged as extenmng from  its beginning to the tip of the finger. Nails may be classified as  long, short, broad and narrow.   Long Nails, Long nails denote weak physical nature. People  with long nails are likely to suffer from chest and lung troubles,  especially if die nails are thin, curved, or, worse still, fluted or  ribbed.   Long, fhick and curved nails are a sign of cruel nature and  loose morals.   When this kind of nail is shorter, it is indicative of throat  troubles, such as laryngitis, asthma and bronchial troubles.   Long nails, white at the top, and bluish in colour indicate  faulty circulation as a result of ill health or nervous weakness.  Such sign will appear on the hands of women when between the  ages of fourteen and twenty-one, forty-two and forty-seven.   Short Nails. Short nails indicate a tendency to heart dis-  ease. Short, thin and flat at the base with little or no moons,  they are infallible signs of weak action of the heart. Large  moons, if present, indicate good circulation. Short and triangular-  shaped nails, besides being flat and thin, denote a -tendency to  paralysis.   short nails, flat and inclined to cuiye out at, the edges, also  foretell paralysis.   Nails with spots denote a highly-strung nervous tempera-  ment. White spots are a sign of general delicacy. Thin nails  of small size show lack of energy and ill health. If narrow and  long with airves, spinal trouble is imminen^.   Nails to be perfect sliould be transparent, pink, polished,  not brittle, and of normal length. The possessor is a person of FINGER NAILS   St. Germain, the well-known Frehch palmist, says: “The  modem physician, be he allopath, homeopath, or eclectic, has  long ago admitted that the colour, consistency, and heat of the  palm, as well as the form and thickness of the nail, are elements  he cannot afford to neglect when forming a diagnosis of any  patient's state of health. Besides, nails throw a flood of light  on the temper possessed by a person. It goes without saying  that a good temper is the most important mature in a person's  character. This may refer to four factors : anger, cheen ulness,  self-confidence and vindictiveness. While discussing nails, we  shall see what has been learnt about these characteristics from  an examination of the nails.   Nails and Health, As far as the science of cheiromomy is  concerned, the - size of the nail can be judged as extenmng from  its beginning to the tip of the finger. Nails may be classified as  long, short, broad and narrow.   Long Nails, Long nails denote weak physical nature. People  with long nails are likely to suffer from chest and lung troubles,  especially if die nails are thin, curved, or, worse still, fluted or  ribbed.   Long, fhick and curved nails are a sign of cruel nature and  loose morals.   When this kind of nail is shorter, it is indicative of throat  troubles, such as laryngitis, asthma and bronchial troubles.   Long nails, white at the top, and bluish in colour indicate  faulty circulation as a result of ill health or nervous weakness.  Such sign will appear on the hands of women when between the  ages of fourteen and twenty-one, forty-two and forty-seven.   Short Nails. Short nails indicate a tendency to heart dis-  ease. Short, thin and flat at the base with little or no moons,  they are infallible signs of weak action of the heart. Large  moons, if present, indicate good circulation. Short and triangular-  shaped nails, besides being flat and thin, denote a -tendency to  paralysis. short nails, flat and inclined to cuiye out at, the edges, also  foretell paralysis.   Nails with spots denote a highly-strung nervous tempera-  ment. White spots are a sign of general delicacy. Thin nails  of small size show lack of energy and ill health. If narrow and  long with airves, spinal trouble is imminen^.   Nails to be perfect sliould be transparent, pink, polished,  not brittle, and of normal length. The possessor is a person of\""
   ]
  },
  {
   "cell_type": "code",
   "execution_count": 5,
   "id": "1d732fe9",
   "metadata": {},
   "outputs": [],
   "source": [
    "doc2 = \"good spirits, refinement, healthy, natural tastes, and plenty of  tact.   When a deep furrow is found across the nail, it is a mark  that a severe illness has impaired the nervous system. Tlie date  and time of this illness and strain can be found as follows: if  found at the base, one month; if seen about the centre, four to  five months; if on the edge or outer edge, nine months. Fluted  nails indicate a weakness of the nervous system.   Marks on the Nails. Black spots show grief, sorrow, and  sadness. A starshaped white mark shows a useless worship of  things and people, unrequited love, or deception. A white mark  on the thumb nail shows attachment. A black spot denotes  crime. A white spot on the nail of the Jupiter finger shows  gain, and a black spot denotes loss. A white spot on the nail  of the middle finger foretells a joumev, and a black spot denotes  impending ruin. A white spot on the nail of the third finger  indicates honour and wealth, but a black spot dishonour. A  white spot on the nail of the fourth finger indicates success in  science and business ventures; but a bla^ spot indicates failure.  If one has yellow marks on the nails, this is taken as a sign  of premature death.   Disposition and Nails. Longnailed people are less critical  and more impressionable than those with short nails. Ihey have  a more equaole tem^r, and a rentier diroosition. They have  more resignation, idealism and a taste for literature, poetry,  painting, and the fine arts. They are inclined to be visionaries.   Short-nailed persons, on the other hand, are critical, and are  apt to analyse everything they come across. They are lo^al- i  minded, and rely on facts. Their brain is more active. They^;  are good debaters, and have a livelier sense of humour than  those with long nails. Their temper is, however, quick and  sharp. When the nails are broaJei than they are long, they  indicate a quarrelsome nature, tending to meddle in other  people's affairs.\""
   ]
  },
  {
   "cell_type": "code",
   "execution_count": null,
   "id": "9b07b107",
   "metadata": {},
   "outputs": [
    {
     "name": "stderr",
     "output_type": "stream",
     "text": [
      "OMP: Info #273: omp_set_nested routine deprecated, please use omp_set_max_active_levels instead.\n"
     ]
    }
   ],
   "source": [
    "topics, probs = topic_model.fit_transform(docs)"
   ]
  },
  {
   "cell_type": "code",
   "execution_count": null,
   "id": "a1ccbf60",
   "metadata": {},
   "outputs": [],
   "source": [
    "fig = topic_model.visualize_topics()\n",
    "fig.show()"
   ]
  },
  {
   "cell_type": "code",
   "execution_count": null,
   "id": "15c8633a",
   "metadata": {},
   "outputs": [],
   "source": []
  }
 ],
 "metadata": {
  "kernelspec": {
   "display_name": "Python 3 (ipykernel)",
   "language": "python",
   "name": "python3"
  },
  "language_info": {
   "codemirror_mode": {
    "name": "ipython",
    "version": 3
   },
   "file_extension": ".py",
   "mimetype": "text/x-python",
   "name": "python",
   "nbconvert_exporter": "python",
   "pygments_lexer": "ipython3",
   "version": "3.7.9"
  }
 },
 "nbformat": 4,
 "nbformat_minor": 5
}
