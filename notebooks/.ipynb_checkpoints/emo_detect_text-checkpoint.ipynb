{
 "cells": [
  {
   "cell_type": "code",
   "execution_count": 28,
   "id": "850e08a3",
   "metadata": {},
   "outputs": [
    {
     "name": "stderr",
     "output_type": "stream",
     "text": [
      "[nltk_data] Downloading package punkt to /Users/m/nltk_data...\n",
      "[nltk_data]   Package punkt is already up-to-date!\n"
     ]
    },
    {
     "data": {
      "text/plain": [
       "True"
      ]
     },
     "execution_count": 28,
     "metadata": {},
     "output_type": "execute_result"
    }
   ],
   "source": [
    "import nltk\n",
    "from nltk.tokenize import sent_tokenize\n",
    "import torch\n",
    "from torch.nn import functional as F\n",
    "import numpy as np\n",
    "from transformers import RobertaTokenizerFast, RobertaForSequenceClassification\n",
    "import json\n",
    "\n",
    "nltk.download('punkt')"
   ]
  },
  {
   "cell_type": "code",
   "execution_count": 6,
   "id": "143ef583",
   "metadata": {},
   "outputs": [
    {
     "name": "stderr",
     "output_type": "stream",
     "text": [
      "2023-02-20 13:41:28.150726: I tensorflow/core/platform/cpu_feature_guard.cc:193] This TensorFlow binary is optimized with oneAPI Deep Neural Network Library (oneDNN) to use the following CPU instructions in performance-critical operations:  AVX2 FMA\n",
      "To enable them in other operations, rebuild TensorFlow with the appropriate compiler flags.\n",
      "All TF 2.0 model weights were used when initializing RobertaForSequenceClassification.\n",
      "\n",
      "All the weights of RobertaForSequenceClassification were initialized from the TF 2.0 model.\n",
      "If your task is similar to the task the model of the checkpoint was trained on, you can already use RobertaForSequenceClassification for predictions without further training.\n"
     ]
    }
   ],
   "source": [
    "tokenizer = RobertaTokenizerFast.from_pretrained(\"arpanghoshal/EmoRoBERTa\")\n",
    "model = RobertaForSequenceClassification.from_pretrained(\"arpanghoshal/EmoRoBERTa\", from_tf=True)"
   ]
  },
  {
   "cell_type": "code",
   "execution_count": 8,
   "id": "1e755b0b",
   "metadata": {},
   "outputs": [],
   "source": [
    "raw_text = open(\"../data/mask_16.txt\").read()\n",
    "sentences = sent_tokenize(raw_text)"
   ]
  },
  {
   "cell_type": "code",
   "execution_count": 9,
   "id": "94f6f735",
   "metadata": {},
   "outputs": [],
   "source": [
    "def format_float(num):\n",
    "    return np.format_float_positional(num, trim='-')"
   ]
  },
  {
   "cell_type": "code",
   "execution_count": 31,
   "id": "199b5b63",
   "metadata": {},
   "outputs": [],
   "source": [
    "scores = []\n",
    "top_n = 3\n",
    "\n",
    "with torch.no_grad():\n",
    "    for sentence in sentences:\n",
    "        # sentence string to tokens\n",
    "        tokens = tokenizer(sentence, return_tensors=\"pt\")\n",
    "        # predict emotions\n",
    "        logits = model(**tokens).logits\n",
    "        # logits to probabilities\n",
    "        probabilities = F.softmax(logits, dim = -1).numpy()\n",
    "        # make floats human readable\n",
    "        probabilities = [format_float(p) for p in probabilities[0]]\n",
    "        # get labels for each emotion\n",
    "        labels = [model.config.id2label[i] for i in range(len(probabilities))]\n",
    "        # get top n labels and probabilities\n",
    "        top_n_indexes = np.argpartition(probabilities, -top_n)[-top_n:]\n",
    "        \n",
    "        score = {\"sentence\": sentence,\n",
    "                 # convert filtered arrays to lists for json serialisation\n",
    "                 \"probabilities\": list(np.array(probabilities)[top_n_indexes]),\n",
    "                 \"labels\": list(np.array(labels)[top_n_indexes])}\n",
    "        scores.append(score)"
   ]
  },
  {
   "cell_type": "code",
   "execution_count": 36,
   "id": "08a41247",
   "metadata": {},
   "outputs": [
    {
     "ename": "SyntaxError",
     "evalue": "positional argument follows keyword argument (3141098426.py, line 2)",
     "output_type": "error",
     "traceback": [
      "\u001b[0;36m  File \u001b[0;32m\"/var/folders/zj/f_wv_4b16pd3hxw8qg93mh1m0000gn/T/ipykernel_53436/3141098426.py\"\u001b[0;36m, line \u001b[0;32m2\u001b[0m\n\u001b[0;31m    json.dump(scores, indent=2,outfile)\u001b[0m\n\u001b[0m                              ^\u001b[0m\n\u001b[0;31mSyntaxError\u001b[0m\u001b[0;31m:\u001b[0m positional argument follows keyword argument\n"
     ]
    }
   ],
   "source": [
    "with open('../data/mask16_emotions.json', 'w') as outfile:\n",
    "    json.dump(scores, outfile, indent=2)"
   ]
  },
  {
   "cell_type": "code",
   "execution_count": null,
   "id": "04738d3c",
   "metadata": {},
   "outputs": [],
   "source": []
  }
 ],
 "metadata": {
  "kernelspec": {
   "display_name": "Python 3 (ipykernel)",
   "language": "python",
   "name": "python3"
  },
  "language_info": {
   "codemirror_mode": {
    "name": "ipython",
    "version": 3
   },
   "file_extension": ".py",
   "mimetype": "text/x-python",
   "name": "python",
   "nbconvert_exporter": "python",
   "pygments_lexer": "ipython3",
   "version": "3.7.9"
  }
 },
 "nbformat": 4,
 "nbformat_minor": 5
}
