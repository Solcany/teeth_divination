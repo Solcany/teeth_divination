{
 "cells": [
  {
   "cell_type": "code",
   "execution_count": 1,
   "id": "ffe32919",
   "metadata": {},
   "outputs": [
    {
     "name": "stderr",
     "output_type": "stream",
     "text": [
      "2023-02-25 19:38:28.683211: I tensorflow/core/platform/cpu_feature_guard.cc:193] This TensorFlow binary is optimized with oneAPI Deep Neural Network Library (oneDNN) to use the following CPU instructions in performance-critical operations:  AVX2 FMA\n",
      "To enable them in other operations, rebuild TensorFlow with the appropriate compiler flags.\n",
      "[nltk_data] Downloading package punkt to /Users/m/nltk_data...\n",
      "[nltk_data]   Package punkt is already up-to-date!\n"
     ]
    },
    {
     "data": {
      "text/plain": [
       "True"
      ]
     },
     "execution_count": 1,
     "metadata": {},
     "output_type": "execute_result"
    }
   ],
   "source": [
    "import nltk\n",
    "from nltk.tokenize import sent_tokenize\n",
    "import torch\n",
    "from torch.nn import functional as F\n",
    "import numpy as np\n",
    "from transformers import RobertaTokenizerFast, RobertaForSequenceClassification\n",
    "import json\n",
    "\n",
    "nltk.download('punkt')"
   ]
  },
  {
   "cell_type": "code",
   "execution_count": 2,
   "id": "cf309af0",
   "metadata": {},
   "outputs": [
    {
     "name": "stderr",
     "output_type": "stream",
     "text": [
      "2023-02-25 19:38:36.227799: I tensorflow/core/platform/cpu_feature_guard.cc:193] This TensorFlow binary is optimized with oneAPI Deep Neural Network Library (oneDNN) to use the following CPU instructions in performance-critical operations:  AVX2 FMA\n",
      "To enable them in other operations, rebuild TensorFlow with the appropriate compiler flags.\n",
      "All TF 2.0 model weights were used when initializing RobertaForSequenceClassification.\n",
      "\n",
      "All the weights of RobertaForSequenceClassification were initialized from the TF 2.0 model.\n",
      "If your task is similar to the task the model of the checkpoint was trained on, you can already use RobertaForSequenceClassification for predictions without further training.\n"
     ]
    }
   ],
   "source": [
    "tokenizer = RobertaTokenizerFast.from_pretrained(\"arpanghoshal/EmoRoBERTa\")\n",
    "model = RobertaForSequenceClassification.from_pretrained(\"arpanghoshal/EmoRoBERTa\", from_tf=True)"
   ]
  },
  {
   "cell_type": "code",
   "execution_count": 48,
   "id": "77712786",
   "metadata": {},
   "outputs": [],
   "source": [
    "def format_float(num):\n",
    "    return f\"{num:.5f}\"\n",
    "    #y = float(txt)\n",
    "    #return float(np.format_float_positional(num, unique=False, precision=5))"
   ]
  },
  {
   "cell_type": "code",
   "execution_count": 36,
   "id": "99bdecf5",
   "metadata": {},
   "outputs": [
    {
     "data": {
      "text/plain": [
       "0.54332"
      ]
     },
     "execution_count": 36,
     "metadata": {},
     "output_type": "execute_result"
    }
   ],
   "source": []
  },
  {
   "cell_type": "code",
   "execution_count": null,
   "id": "bf895497",
   "metadata": {},
   "outputs": [],
   "source": [
    "raw_paragraphs_text = open(\"../data/mask_16_paragraphs.txt\").read()\n",
    "paragraphs = raw_paragraphs_text.split('\\n\\n')"
   ]
  },
  {
   "cell_type": "code",
   "execution_count": 50,
   "id": "e7741ea2",
   "metadata": {},
   "outputs": [],
   "source": [
    "# detect emotion in paragraphs\n",
    "\n",
    "top_n = 10\n",
    "all_probs = []\n",
    "\n",
    "# detect emotion in sentences\n",
    "with torch.no_grad():\n",
    "    for paragraph in paragraphs:\n",
    "        # sentence string to tokens\n",
    "        tokens = tokenizer(paragraph, return_tensors=\"pt\")\n",
    "        # predict emotions\n",
    "        logits = model(**tokens).logits\n",
    "        # logits to probabilities\n",
    "        probs = F.softmax(logits, dim = -1).numpy()[0]\n",
    "        # make floats human readable\n",
    "        probs = [p if p > 0.001 else 0.0 for p in probs]\n",
    "        all_probs.append(probs)\n",
    "        \n",
    "        # get labels for each emotion\n",
    "        #labels = [model.config.id2label[i] for i in range(len(probabilities))]\n",
    "        # get top n labels and probabilities\n",
    "        #top_n_indexes = np.argpartition(probabilities, -top_n)[-top_n:]\n",
    "        \n",
    "#         score = {\"sentence\": paragraph,\n",
    "#                  # convert filtered arrays to lists for json serialisation\n",
    "#                  \"probabilities\": list(np.array(probabilities)[top_n_indexes]),\n",
    "#                  \"labels\": list(np.array(labels)[top_n_indexes])}\n",
    "#print(len(all_probs))\n",
    "probs_summed = np.sum(np.array(all_probs), 0)\n",
    "probs_summed = [format_float(p) for p in probs_summed]\n",
    "\n",
    "\n",
    "data = {}\n",
    "data[\"metadata\"] = {}\n",
    "data[\"metadata\"][\"mask_id\"] = 16\n",
    "data[\"data\"] = []\n",
    "\n",
    "for i, prob in enumerate(probs_summed):\n",
    "    label = model.config.id2label[i]\n",
    "    data[\"data\"].append({\"label\": label, \"summed_probability\": float(prob)})\n",
    "        \n",
    "with open('../data/mask16_profile.json', 'w') as outfile:\n",
    "    json.dump(data, outfile, indent=2) "
   ]
  },
  {
   "cell_type": "code",
   "execution_count": null,
   "id": "099313a0",
   "metadata": {},
   "outputs": [],
   "source": []
  },
  {
   "cell_type": "code",
   "execution_count": null,
   "id": "29ddb808",
   "metadata": {},
   "outputs": [],
   "source": []
  }
 ],
 "metadata": {
  "kernelspec": {
   "display_name": "Python 3 (ipykernel)",
   "language": "python",
   "name": "python3"
  },
  "language_info": {
   "codemirror_mode": {
    "name": "ipython",
    "version": 3
   },
   "file_extension": ".py",
   "mimetype": "text/x-python",
   "name": "python",
   "nbconvert_exporter": "python",
   "pygments_lexer": "ipython3",
   "version": "3.7.9"
  }
 },
 "nbformat": 4,
 "nbformat_minor": 5
}
