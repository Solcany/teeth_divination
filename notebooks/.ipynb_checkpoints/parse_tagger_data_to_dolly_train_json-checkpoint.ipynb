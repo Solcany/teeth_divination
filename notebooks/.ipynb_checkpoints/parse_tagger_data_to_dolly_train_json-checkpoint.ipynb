{
 "cells": [
  {
   "cell_type": "code",
   "execution_count": 45,
   "id": "dcc77e3e",
   "metadata": {},
   "outputs": [],
   "source": [
    "import os\n",
    "import json"
   ]
  },
  {
   "cell_type": "code",
   "execution_count": 46,
   "id": "edfc4fc3",
   "metadata": {},
   "outputs": [],
   "source": [
    "TAGGED_FOLDER_PATH = \"../data/gin_tags/\"\n",
    "OUTPUT_DIR = \"../data/train/\"\n",
    "OUTPUT_FILE = \"text_gen_train.json\""
   ]
  },
  {
   "cell_type": "code",
   "execution_count": 47,
   "id": "f3696689",
   "metadata": {},
   "outputs": [],
   "source": [
    "data_paths = [os.path.join(TAGGED_FOLDER_PATH, f) for f in os.listdir(TAGGED_FOLDER_PATH) if os.path.isfile(os.path.join(TAGGED_FOLDER_PATH, f))]\n"
   ]
  },
  {
   "cell_type": "code",
   "execution_count": 67,
   "id": "8890eb3f",
   "metadata": {},
   "outputs": [],
   "source": [
    "def clean_domain_string(s):\n",
    "    new_s = s\n",
    "    new_s = new_s.replace(\":\", \"\")\n",
    "    new_s = new_s.replace('\\\"', \"\")\n",
    "    new_s = new_s.strip()\n",
    "   \n",
    "    return new_s"
   ]
  },
  {
   "cell_type": "code",
   "execution_count": 68,
   "id": "2f02dfff",
   "metadata": {},
   "outputs": [],
   "source": [
    "def get_train_dict(data):\n",
    "    d = {}\n",
    "    instruction = [clean_domain_string(domain) for domain in data[\"domains\"]] \n",
    "    instruction = \", \".join(instruction)\n",
    "    d[\"instruction\"] = instruction\n",
    "    d[\"input\"] = \"\"\n",
    "    d[\"output\"] = data[\"entry\"]\n",
    "    return d"
   ]
  },
  {
   "cell_type": "code",
   "execution_count": 69,
   "id": "8d66d614",
   "metadata": {},
   "outputs": [],
   "source": [
    "train = []\n",
    "\n",
    "for path in data_paths:\n",
    "    with open(path) as json_file:\n",
    "        data = json.load(json_file)\n",
    "        train.append([get_train_dict(d) for d in data[\"data\"]])"
   ]
  },
  {
   "cell_type": "code",
   "execution_count": 70,
   "id": "4d7046db",
   "metadata": {},
   "outputs": [],
   "source": [
    "path = os.path.abspath(OUTPUT_DIR)\n",
    "\n",
    "if not os.path.exists(path):\n",
    "   os.makedirs(path)\n",
    "\n",
    "with open(os.path.join(path, OUTPUT_FILE), \"w\") as out_file:\n",
    "   json.dump(train, out_file, indent = 3)"
   ]
  },
  {
   "cell_type": "code",
   "execution_count": null,
   "id": "bf5e3259",
   "metadata": {},
   "outputs": [],
   "source": []
  },
  {
   "cell_type": "code",
   "execution_count": null,
   "id": "82aeb744",
   "metadata": {},
   "outputs": [],
   "source": []
  },
  {
   "cell_type": "code",
   "execution_count": null,
   "id": "c820f5cb",
   "metadata": {},
   "outputs": [],
   "source": []
  }
 ],
 "metadata": {
  "kernelspec": {
   "display_name": "Python 3 (ipykernel)",
   "language": "python",
   "name": "python3"
  },
  "language_info": {
   "codemirror_mode": {
    "name": "ipython",
    "version": 3
   },
   "file_extension": ".py",
   "mimetype": "text/x-python",
   "name": "python",
   "nbconvert_exporter": "python",
   "pygments_lexer": "ipython3",
   "version": "3.7.9"
  }
 },
 "nbformat": 4,
 "nbformat_minor": 5
}
