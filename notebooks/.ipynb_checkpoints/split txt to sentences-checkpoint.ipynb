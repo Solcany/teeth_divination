{
 "cells": [
  {
   "cell_type": "code",
   "execution_count": 5,
   "id": "82418f0f",
   "metadata": {},
   "outputs": [
    {
     "name": "stderr",
     "output_type": "stream",
     "text": [
      "[nltk_data] Downloading package punkt to /Users/m/nltk_data...\n",
      "[nltk_data]   Unzipping tokenizers/punkt.zip.\n"
     ]
    },
    {
     "data": {
      "text/plain": [
       "True"
      ]
     },
     "execution_count": 5,
     "metadata": {},
     "output_type": "execute_result"
    }
   ],
   "source": [
    "from nltk.tokenize import sent_tokenize\n",
    "nltk.download('punkt')"
   ]
  },
  {
   "cell_type": "code",
   "execution_count": 14,
   "id": "4cf10797",
   "metadata": {},
   "outputs": [
    {
     "data": {
      "text/plain": [
       "['On the tram to Den Haag.',\n",
       " 'Now that I’m back, I try to tidy up.',\n",
       " 'To understand my limits.',\n",
       " 'Is it true I would benefit from routine?',\n",
       " 'I’m not sure.',\n",
       " 'Surely in this moment I benefit from slowness, solitude, but also solidarity.',\n",
       " 'Say no when I want to say no.',\n",
       " 'I’m still vulnerable, this needs to be said.',\n",
       " 'C. in some ways scares me, is like a statue, heavy and monolithic, a fountain that sprays water.',\n",
       " 'I need to coordinate to this sprays, to see him shine in his beauty.',\n",
       " 'I can seat on the border of the fountain, tell myself, reflect myself in the water.',\n",
       " 'But the fountain cannot move.',\n",
       " 'It moves in its flux, but stays stable in its certainty, carved in stone.',\n",
       " 'Even if, at whatever time it could change spot, or finish the water.',\n",
       " 'It may be that too many people at the same time want to tell themselves, reflect in the water, drink from it.',\n",
       " 'I don’t know if I should be scared of this.',\n",
       " 'Or if I should see this as its main feature, transparent, but his own.',\n",
       " 'I feel too young when I’m with C., I feel my path still to find.',\n",
       " 'All the versions of me I still don’t know.',\n",
       " 'I feel him existing in a limbo semi-lucid, in which my life is not there, I’m visiting his.',\n",
       " 'Like in a vacation.',\n",
       " 'I don’t even remember how to do it anymore.',\n",
       " 'I don’t know how to be in a relationship where the other person is so centered, but also predicating a bit.',\n",
       " 'I know he can see my “mistakes”, how my life could be more balanced, more this, more that.',\n",
       " 'And I know he’s fascinated by my ways, but still sees it like a “when I was your age..”.',\n",
       " 'I don’t think I like this aspect.',\n",
       " 'I created a video for an exhibition with my good friends Cecilia and Bruno.',\n",
       " 'This video is the first documentation of my project Digital Esoterism.',\n",
       " 'We read in the Past Present and Future of Cecilia’s phone.',\n",
       " 'Her mother came up, she died three years ago.',\n",
       " 'The whole day was not very lucky.',\n",
       " 'Right by the end of the video someone walked in and we had to stop.',\n",
       " 'Could we use it for 10 minutes more?',\n",
       " 'Absolutely not, you have to leave.',\n",
       " 'A whole day of work was thrown away like this.',\n",
       " 'Luckily Cecilia and Bruno told me they would be available the next day.',\n",
       " 'The Stedelijk Museum called me to tell me they are not going to acquire my work, which is already showing there.',\n",
       " 'The exhibition I am part of is already a huge opportunity, but I knew the museum was supposed to acquire some works.',\n",
       " 'Well, they didn’t choose mine.',\n",
       " 'I am very disappointed, and sad.',\n",
       " 'And I tell myself I don’t want to be greedy, isn’t being at the Stedlijk enough?',\n",
       " 'And absolutely yes, it is.',\n",
       " 'Yet, in this moment I think I really needed a win.',\n",
       " 'Something to cheer me up, this doesn’t help.',\n",
       " 'I will keep on working and look around.',\n",
       " 'I have no idea what the next months are going to look like.',\n",
       " 'This afternoon I talked to C. I’m not used to dating, or entering years long relationships, sometimes I am too impulsive.',\n",
       " 'C. is still uncertain about the space in between us, and the other people in his life.',\n",
       " 'I, once again, feel like I’m not enough just as I am.',\n",
       " 'I am loved from what he says.',\n",
       " 'But still, there is a constant imbalance.',\n",
       " 'Strife for something else.',\n",
       " '4 hours of talking in the car with C. I feel so much.',\n",
       " 'I cried, I was scared, then I was relieved, and calm.',\n",
       " 'Then in love, than scared again.',\n",
       " 'Maybe this is a bit too much.',\n",
       " 'A Beatles revival.',\n",
       " 'Across the universe.',\n",
       " 'I am going to the Stedelijk to perform my readings.',\n",
       " 'The two people I had a reading with were incredible, passionate, fascinating and fascinated.',\n",
       " 'I am always very grateful of the interactions that are created around that table.',\n",
       " 'This month keeps on not being easy.',\n",
       " 'It’s testing me emotionally (the long conversation in the car with C., crying, feeling like he would drop me off at home like that), professionally (I don’t know what Im going to do the next months, I keep on being refused by applications) but I’m slowly getting back in touch with a routine (which I never had before) and I’m trying to keep my feet on the ground, contact with reality and events.',\n",
       " 'All this requires a lot of effort, because at the moment nothing seems to take the right direction.',\n",
       " 'There was a moment like that, but now with a lot of effort I move forward, I try a direction.',\n",
       " 'This rejection from Stimulering repositions a whole set of things and possibilities, and insecurities.',\n",
       " 'I don’t know what’s going to happen.',\n",
       " 'I’m looking for new hopes.']"
      ]
     },
     "execution_count": 14,
     "metadata": {},
     "output_type": "execute_result"
    }
   ],
   "source": [
    "raw_text = open(\"../data/mask_16.txt\").read()\n",
    "sent_tokenize(raw_text)"
   ]
  },
  {
   "cell_type": "code",
   "execution_count": null,
   "id": "c93cf9b2",
   "metadata": {},
   "outputs": [],
   "source": []
  }
 ],
 "metadata": {
  "kernelspec": {
   "display_name": "Python 3 (ipykernel)",
   "language": "python",
   "name": "python3"
  },
  "language_info": {
   "codemirror_mode": {
    "name": "ipython",
    "version": 3
   },
   "file_extension": ".py",
   "mimetype": "text/x-python",
   "name": "python",
   "nbconvert_exporter": "python",
   "pygments_lexer": "ipython3",
   "version": "3.7.9"
  }
 },
 "nbformat": 4,
 "nbformat_minor": 5
}
