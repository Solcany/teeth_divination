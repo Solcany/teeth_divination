{
 "cells": [
  {
   "cell_type": "code",
   "execution_count": 9,
   "id": "bc2b0af2",
   "metadata": {},
   "outputs": [
    {
     "data": {
      "text/plain": [
       "<torch._C.Generator at 0x1103eb670>"
      ]
     },
     "execution_count": 9,
     "metadata": {},
     "output_type": "execute_result"
    }
   ],
   "source": [
    "import torch\n",
    "from torch.utils.data import Dataset, DataLoader\n",
    "torch.manual_seed(42)"
   ]
  },
  {
   "cell_type": "code",
   "execution_count": 10,
   "id": "ee647ac2",
   "metadata": {},
   "outputs": [],
   "source": [
    "# Creating the dataset class\n",
    "class Data(Dataset):\n",
    "    # Constructor\n",
    "    def __init__(self):\n",
    "        self.x = torch.zeros(40, 2)\n",
    "        self.x[:, 0] = torch.arange(-2, 2, 0.1)\n",
    "        self.x[:, 1] = torch.arange(-2, 2, 0.1)\n",
    "        w = torch.tensor([[1.0, 2.0], [2.0, 4.0]])\n",
    "        b = 1\n",
    "        func = torch.mm(self.x, w) + b    \n",
    "        self.y = func + 0.2 * torch.randn((self.x.shape[0],1))\n",
    "        self.len = self.x.shape[0]\n",
    "    # Getter\n",
    "    def __getitem__(self, idx):          \n",
    "        return self.x[idx], self.y[idx] \n",
    "    # getting data length\n",
    "    def __len__(self):\n",
    "        return self.len"
   ]
  },
  {
   "cell_type": "code",
   "execution_count": 13,
   "id": "1ef377e4",
   "metadata": {},
   "outputs": [],
   "source": [
    "# Creating a custom Multiple Linear Regression Model\n",
    "class MultipleLinearRegression(torch.nn.Module):\n",
    "    # Constructor\n",
    "    def __init__(self, input_dim, output_dim):\n",
    "        super(MultipleLinearRegression, self).__init__()\n",
    "        self.linear = torch.nn.Linear(input_dim, output_dim)\n",
    "    # Prediction\n",
    "    def forward(self, x):\n",
    "        y_pred = self.linear(x)\n",
    "        return y_pred"
   ]
  },
  {
   "cell_type": "code",
   "execution_count": 30,
   "id": "10abdc94",
   "metadata": {},
   "outputs": [],
   "source": [
    "# Creating the model object\n",
    "MLR_model = MultipleLinearRegression(2,2)\n",
    "\n",
    "# defining the model optimizer\n",
    "optimizer = torch.optim.SGD(MLR_model.parameters(), lr=0.01)\n",
    "# defining the loss criterion\n",
    "criterion = torch.nn.MSELoss()\n",
    "\n",
    "data_set = Data()\n",
    "train_loader = DataLoader(dataset=data_set, batch_size=2)"
   ]
  },
  {
   "cell_type": "code",
   "execution_count": 31,
   "id": "ee34dc57",
   "metadata": {},
   "outputs": [
    {
     "name": "stdout",
     "output_type": "stream",
     "text": [
      "epoch = 0, loss = 29.81667709350586\n",
      "epoch = 1, loss = 11.2174072265625\n",
      "epoch = 2, loss = 4.3613200187683105\n",
      "epoch = 3, loss = 1.7579166889190674\n",
      "epoch = 4, loss = 0.734952449798584\n",
      "epoch = 5, loss = 0.3176913261413574\n",
      "epoch = 6, loss = 0.14088742434978485\n",
      "epoch = 7, loss = 0.06329688429832458\n",
      "epoch = 8, loss = 0.028332334011793137\n",
      "epoch = 9, loss = 0.012425621971487999\n",
      "epoch = 10, loss = 0.005355023313313723\n",
      "epoch = 11, loss = 0.0025003673508763313\n",
      "epoch = 12, loss = 0.001687777927145362\n",
      "epoch = 13, loss = 0.0018559056334197521\n",
      "epoch = 14, loss = 0.002470733132213354\n",
      "epoch = 15, loss = 0.0032583987340331078\n",
      "epoch = 16, loss = 0.004077950958162546\n",
      "epoch = 17, loss = 0.004859070293605328\n",
      "epoch = 18, loss = 0.005569164175540209\n",
      "epoch = 19, loss = 0.006195876281708479\n",
      "epoch = 20, loss = 0.0067388154566287994\n",
      "epoch = 21, loss = 0.007202952168881893\n",
      "epoch = 22, loss = 0.007595301140099764\n",
      "epoch = 23, loss = 0.007924677804112434\n",
      "epoch = 24, loss = 0.008200161159038544\n",
      "epoch = 25, loss = 0.008428828790783882\n",
      "epoch = 26, loss = 0.008618312887847424\n",
      "epoch = 27, loss = 0.0087747098878026\n",
      "epoch = 28, loss = 0.008903684094548225\n",
      "epoch = 29, loss = 0.009009825065732002\n",
      "epoch = 30, loss = 0.009096919558942318\n",
      "epoch = 31, loss = 0.009168476797640324\n",
      "epoch = 32, loss = 0.009227016940712929\n",
      "epoch = 33, loss = 0.009274998679757118\n",
      "epoch = 34, loss = 0.009314497001469135\n",
      "epoch = 35, loss = 0.009346598759293556\n",
      "epoch = 36, loss = 0.00937258917838335\n",
      "epoch = 37, loss = 0.009394164197146893\n",
      "epoch = 38, loss = 0.009411673992872238\n",
      "epoch = 39, loss = 0.009425908327102661\n",
      "epoch = 40, loss = 0.00943773239850998\n",
      "epoch = 41, loss = 0.009447092190384865\n",
      "epoch = 42, loss = 0.009454942308366299\n",
      "epoch = 43, loss = 0.009461315348744392\n",
      "epoch = 44, loss = 0.009466509334743023\n",
      "epoch = 45, loss = 0.00947064720094204\n",
      "epoch = 46, loss = 0.00947416853159666\n",
      "epoch = 47, loss = 0.009476878680288792\n",
      "epoch = 48, loss = 0.009479179047048092\n",
      "epoch = 49, loss = 0.009480899199843407\n",
      "epoch = 50, loss = 0.00948256067931652\n",
      "epoch = 51, loss = 0.009483784437179565\n",
      "epoch = 52, loss = 0.00948494952172041\n",
      "epoch = 53, loss = 0.009485882706940174\n",
      "epoch = 54, loss = 0.009486494585871696\n",
      "epoch = 55, loss = 0.00948701985180378\n",
      "epoch = 56, loss = 0.009487615898251534\n",
      "epoch = 57, loss = 0.009487922303378582\n",
      "epoch = 58, loss = 0.009488272480666637\n",
      "epoch = 59, loss = 0.009488606825470924\n",
      "epoch = 60, loss = 0.009488885290920734\n",
      "epoch = 61, loss = 0.009489146992564201\n",
      "epoch = 62, loss = 0.009489364922046661\n",
      "epoch = 63, loss = 0.009489408694207668\n",
      "epoch = 64, loss = 0.009489452466368675\n",
      "epoch = 65, loss = 0.009489408694207668\n",
      "epoch = 66, loss = 0.009489452466368675\n",
      "epoch = 67, loss = 0.009489496238529682\n",
      "epoch = 68, loss = 0.009489496238529682\n",
      "epoch = 69, loss = 0.009489496238529682\n",
      "epoch = 70, loss = 0.009489496238529682\n",
      "epoch = 71, loss = 0.009489496238529682\n",
      "epoch = 72, loss = 0.009489496238529682\n",
      "epoch = 73, loss = 0.009489496238529682\n",
      "epoch = 74, loss = 0.009489496238529682\n",
      "epoch = 75, loss = 0.009489496238529682\n",
      "epoch = 76, loss = 0.009489496238529682\n",
      "epoch = 77, loss = 0.009489496238529682\n",
      "epoch = 78, loss = 0.009489496238529682\n",
      "epoch = 79, loss = 0.009489496238529682\n",
      "epoch = 80, loss = 0.009489496238529682\n",
      "epoch = 81, loss = 0.009489496238529682\n",
      "epoch = 82, loss = 0.009489496238529682\n",
      "epoch = 83, loss = 0.009489496238529682\n",
      "epoch = 84, loss = 0.009489496238529682\n",
      "epoch = 85, loss = 0.009489496238529682\n",
      "epoch = 86, loss = 0.009489496238529682\n",
      "epoch = 87, loss = 0.009489496238529682\n",
      "epoch = 88, loss = 0.009489496238529682\n",
      "epoch = 89, loss = 0.009489496238529682\n",
      "epoch = 90, loss = 0.009489496238529682\n",
      "epoch = 91, loss = 0.009489496238529682\n",
      "epoch = 92, loss = 0.009489496238529682\n",
      "epoch = 93, loss = 0.009489496238529682\n",
      "epoch = 94, loss = 0.009489496238529682\n",
      "epoch = 95, loss = 0.009489496238529682\n",
      "epoch = 96, loss = 0.009489496238529682\n",
      "epoch = 97, loss = 0.009489496238529682\n",
      "epoch = 98, loss = 0.009489496238529682\n",
      "epoch = 99, loss = 0.009489496238529682\n",
      "Done training!\n"
     ]
    }
   ],
   "source": [
    "# Train the model\n",
    "losses = []\n",
    "epochs = 20\n",
    "for epoch in range(epochs):\n",
    "    for x,y in train_loader:\n",
    "        y_pred = MLR_model(x)\n",
    "        loss = criterion(y_pred, y)\n",
    "        losses.append(loss.item())\n",
    "        optimizer.zero_grad()\n",
    "        loss.backward()\n",
    "        optimizer.step()   \n",
    "    print(f\"epoch = {epoch}, loss = {loss}\")\n",
    "print(\"Done training!\")"
   ]
  },
  {
   "cell_type": "code",
   "execution_count": null,
   "id": "5537cab2",
   "metadata": {},
   "outputs": [],
   "source": []
  },
  {
   "cell_type": "code",
   "execution_count": null,
   "id": "8710efed",
   "metadata": {},
   "outputs": [],
   "source": []
  }
 ],
 "metadata": {
  "kernelspec": {
   "display_name": "Python 3 (ipykernel)",
   "language": "python",
   "name": "python3"
  },
  "language_info": {
   "codemirror_mode": {
    "name": "ipython",
    "version": 3
   },
   "file_extension": ".py",
   "mimetype": "text/x-python",
   "name": "python",
   "nbconvert_exporter": "python",
   "pygments_lexer": "ipython3",
   "version": "3.7.9"
  }
 },
 "nbformat": 4,
 "nbformat_minor": 5
}
