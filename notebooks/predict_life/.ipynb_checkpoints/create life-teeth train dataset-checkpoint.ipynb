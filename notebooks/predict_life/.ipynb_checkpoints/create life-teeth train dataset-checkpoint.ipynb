{
 "cells": [
  {
   "cell_type": "code",
   "execution_count": 1,
   "id": "77115eb9",
   "metadata": {},
   "outputs": [],
   "source": [
    "import pandas as pd\n",
    "import numpy as np"
   ]
  },
  {
   "cell_type": "code",
   "execution_count": 2,
   "id": "1dfb2602",
   "metadata": {},
   "outputs": [],
   "source": [
    "MERIDIAN_PATH = \"../../data/life/Bite Off More Than You Can Chew Braces profile - Sheet1.csv\"\n",
    "TEETH_UP_PATH = \"../../data/life/BOMTYCC_teeth_up_1854211842023.json\"\n",
    "TEETH_DOWN_PATH = \"../../data/life/BOMTYCC_teeth_down_1826391842023.json\""
   ]
  },
  {
   "cell_type": "code",
   "execution_count": 3,
   "id": "0798e031",
   "metadata": {},
   "outputs": [],
   "source": [
    "teeth_up = pd.read_json(TEETH_UP_PATH)\n",
    "teeth_down = pd.read_json(TEETH_DOWN_PATH)\n",
    "teeth_df = pd.concat([teeth_up, teeth_down])\n",
    "teeth_df = teeth_df.reset_index(drop=True)"
   ]
  },
  {
   "cell_type": "code",
   "execution_count": 4,
   "id": "782061ce",
   "metadata": {},
   "outputs": [],
   "source": [
    "meridian_df = pd.read_csv(MERIDIAN_PATH)\n",
    "meridian_df.dropna(subset=[\"Tooth number\", \"Domain\"], inplace=True)\n",
    "f = lambda s: [int(s) for s in s.split(\"-\")]\n",
    "meridian_df[\"Tooth number\"] = meridian_df[\"Tooth number\"].apply(f)"
   ]
  },
  {
   "cell_type": "code",
   "execution_count": 62,
   "id": "46a8670f",
   "metadata": {},
   "outputs": [
    {
     "data": {
      "text/plain": [
       "0     [[[-1.0, -1.0], [-1.0, -1.0], [-1.0, -1.0], [-...\n",
       "1     [[[-1.0, -1.0], [-1.0, -1.0], [-1.0, -1.0], [-...\n",
       "2     [[[-1.0, -1.0], [-1.0, -1.0], [-1.0, -1.0], [-...\n",
       "3     [[[-1.0, -1.0], [-1.0, -1.0], [-1.0, -1.0], [-...\n",
       "4     [[[-1.0, -1.0], [-1.0, -1.0], [-1.0, -1.0], [-...\n",
       "                            ...                        \n",
       "94    [[[-1.0, -1.0], [-1.0, -1.0], [-1.0, -1.0], [-...\n",
       "95    [[[-1.0, -1.0], [-1.0, -1.0], [-1.0, -1.0], [-...\n",
       "96    [[[-1.0, -1.0], [-1.0, -1.0], [-1.0, -1.0], [-...\n",
       "97    [[[-1.0, -1.0], [-1.0, -1.0], [-1.0, -1.0], [-...\n",
       "98    [[[-1.0, -1.0], [-1.0, -1.0], [-1.0, -1.0], [-...\n",
       "Name: 0, Length: 99, dtype: object"
      ]
     },
     "execution_count": 62,
     "metadata": {},
     "output_type": "execute_result"
    }
   ],
   "source": [
    "# create the training dataset\n",
    "train_df = pd.DataFrame() \n",
    "\n",
    "n_teeth = teeth_df[\"data\"].shape[0]\n",
    "# the default position of irrelevant teeth\n",
    "non_tooth = [-1.0, -1.0]\n",
    "\n",
    "# loop through meridian rows\n",
    "for row_index, row in meridian_df.iterrows():\n",
    "    # the ids of the associated teeth\n",
    "    teeth_ids = row[\"Tooth number\"]\n",
    "    # filter out the irrelevant teeth data\n",
    "    mask = teeth_df[\"data\"].apply(lambda x: x['toothId'] in teeth_ids)\n",
    "    associated_teeth = teeth_df[\"data\"][mask]\n",
    "    # get indexes of the associated teeth in the context of all teeth\n",
    "    mask = teeth_data.isin(associated_teeth)\n",
    "    # flatnonzero returns indexes of values > 0\n",
    "    associated_teeth_indexes = np.flatnonzero(mask)\n",
    "    # filter columns with domains ratings\n",
    "    # There's ratings associated with each dental brace gin wore in the past    \n",
    "    meridian_life_ratings = row.filter(like='Brace').dropna()\n",
    "    n_ratings = meridian_life_ratings.shape[0]\n",
    "\n",
    "    xys = []\n",
    "    \n",
    "    for rating_index in range(n_ratings):\n",
    "        # set positions of all teeth teeth to the non teeth value \n",
    "        x = np.full((n_teeth, len(non_tooth)), non_tooth)\n",
    "        y = meridian_life_ratings.iloc[rating_index]\n",
    "        # update x values where there's associated teeth\n",
    "        for tup in zip(associated_teeth, associated_teeth_indexes):\n",
    "            (tooth, tooth_index) = tup\n",
    "            # print(row[\"Domain\"])\n",
    "            #print(meridian_life_ratings.iloc[rating_index])\n",
    "            x[tooth_index] = tooth[\"toothPositions\"][rating_index]\n",
    "        xys.append([x,y])\n",
    "        \n",
    "    train_df = train_df.append(pd.Series(xys), ignore_index=True)\n",
    "\n",
    "# next check next week if the df has the desired col0: [x1,y1], col1: [x2,y2] structure"
   ]
  },
  {
   "cell_type": "code",
   "execution_count": null,
   "id": "900acd50",
   "metadata": {},
   "outputs": [],
   "source": []
  }
 ],
 "metadata": {
  "kernelspec": {
   "display_name": "Python 3 (ipykernel)",
   "language": "python",
   "name": "python3"
  },
  "language_info": {
   "codemirror_mode": {
    "name": "ipython",
    "version": 3
   },
   "file_extension": ".py",
   "mimetype": "text/x-python",
   "name": "python",
   "nbconvert_exporter": "python",
   "pygments_lexer": "ipython3",
   "version": "3.7.9"
  }
 },
 "nbformat": 4,
 "nbformat_minor": 5
}
