{
 "cells": [
  {
   "cell_type": "code",
   "execution_count": 6,
   "id": "77115eb9",
   "metadata": {},
   "outputs": [],
   "source": [
    "import pandas as pd"
   ]
  },
  {
   "cell_type": "code",
   "execution_count": 7,
   "id": "1dfb2602",
   "metadata": {},
   "outputs": [],
   "source": [
    "CSV_PATH = \"../../data/life/Bite Off More Than You Can Chew Braces profile - Sheet1.csv\""
   ]
  },
  {
   "cell_type": "code",
   "execution_count": 114,
   "id": "782061ce",
   "metadata": {},
   "outputs": [
    {
     "data": {
      "text/plain": [
       "Index(['Domain', 'Tooth number', 'Health condition related to tooth:',\n",
       "       'Brace 1- 25 lugl-8 agosto', 'Brace 2 - 8 agosto -22 agosto',\n",
       "       'Brace 3 -22 agosto-5 settembre ', 'Brace 4', 'Brace 5', 'Brace 6',\n",
       "       'Brace 7', 'Brace 8', 'Brace 9', 'Brace 10', 'Brace 11', 'Brace 12',\n",
       "       'Brace 13', 'Brace 14', 'Brace 15', 'Brace 16', 'Brace 17', 'Brace 18',\n",
       "       'Brace 19', 'Brace 20', 'Brace 21', 'Brace 22', 'Brace 23'],\n",
       "      dtype='object')"
      ]
     },
     "execution_count": 114,
     "metadata": {},
     "output_type": "execute_result"
    }
   ],
   "source": [
    "df = pd.read_csv(CSV_PATH)\n",
    "df.keys()"
   ]
  },
  {
   "cell_type": "code",
   "execution_count": 115,
   "id": "67f72b84",
   "metadata": {},
   "outputs": [],
   "source": [
    "# remove nulls\n",
    "df.dropna(subset=[\"Tooth number\", \"Domain\"], inplace=True)"
   ]
  },
  {
   "cell_type": "code",
   "execution_count": 116,
   "id": "1b3eb3c4",
   "metadata": {},
   "outputs": [],
   "source": [
    "# teeth indices to ints\n",
    "f = lambda s: [int(s) for s in s.split(\"-\")]\n",
    "df[\"Tooth number\"] = df[\"Tooth number\"].apply(f)"
   ]
  },
  {
   "cell_type": "code",
   "execution_count": 117,
   "id": "16604d74",
   "metadata": {},
   "outputs": [
    {
     "name": "stdout",
     "output_type": "stream",
     "text": [
      "0                      [14, 24, 34, 44]\n",
      "1                      [14, 24, 34, 44]\n",
      "2                      [14, 24, 34, 44]\n",
      "3                      [14, 24, 34, 44]\n",
      "4                      [41, 31, 11, 21]\n",
      "5                              [48, 38]\n",
      "6                      [14, 24, 34, 44]\n",
      "7      [21, 22, 23, 24, 25, 26, 27, 28]\n",
      "8                      [14, 24, 34, 44]\n",
      "9                      [13, 23, 33, 43]\n",
      "10                     [14, 24, 34, 44]\n",
      "11                     [13, 23, 33, 43]\n",
      "12     [11, 12, 41, 42, 31, 32, 21, 22]\n",
      "13                     [13, 23, 33, 43]\n",
      "14                     [14, 24, 34, 44]\n",
      "15                     [14, 24, 34, 44]\n",
      "16                     [18, 28, 38, 48]\n",
      "17                     [18, 28, 38, 48]\n",
      "18                     [13, 23, 33, 43]\n",
      "19     [11, 12, 41, 42, 31, 32, 21, 22]\n",
      "20                     [14, 24, 34, 44]\n",
      "21     [17, 16, 26, 27, 45, 44, 35, 34]\n",
      "22     [11, 12, 41, 42, 31, 32, 21, 22]\n",
      "23     [11, 12, 41, 42, 31, 32, 21, 22]\n",
      "24                             [48, 38]\n",
      "25                     [18, 28, 38, 48]\n",
      "26     [11, 12, 41, 42, 31, 32, 21, 22]\n",
      "28                     [48, 38, 28, 18]\n",
      "29     [34, 35, 44, 45, 16, 17, 26, 27]\n",
      "30                     [13, 23, 33, 43]\n",
      "31     [11, 12, 41, 42, 31, 32, 21, 22]\n",
      "32                     [18, 28, 38, 48]\n",
      "33                     [18, 28, 38, 48]\n",
      "34                     [13, 23, 33, 43]\n",
      "35     [17, 16, 26, 27, 45, 44, 35, 34]\n",
      "36     [14, 15, 26, 27, 46, 47, 36, 37]\n",
      "37                     [13, 23, 33, 43]\n",
      "38     [11, 12, 41, 42, 31, 32, 21, 22]\n",
      "39     [17, 16, 26, 27, 45, 44, 35, 34]\n",
      "40     [11, 12, 41, 42, 31, 32, 21, 22]\n",
      "41     [34, 35, 44, 45, 16, 17, 26, 27]\n",
      "42                     [18, 28, 38, 48]\n",
      "43     [34, 35, 44, 45, 16, 17, 26, 27]\n",
      "44                     [18, 28, 38, 48]\n",
      "46     [17, 16, 26, 27, 45, 44, 35, 34]\n",
      "47                     [13, 23, 33, 43]\n",
      "48                             [48, 38]\n",
      "49     [11, 12, 13, 14, 15, 16, 17, 18]\n",
      "50                             [48, 38]\n",
      "51                             [48, 38]\n",
      "52                             [48, 38]\n",
      "53                     [13, 23, 33, 43]\n",
      "54                     [13, 23, 33, 43]\n",
      "55                     [18, 28, 38, 48]\n",
      "56                     [17, 27, 37, 47]\n",
      "57                     [18, 28, 38, 48]\n",
      "58                     [18, 28, 38, 48]\n",
      "59                     [18, 28, 38, 48]\n",
      "60                     [18, 28, 38, 48]\n",
      "61     [12, 11, 21, 22, 32, 31, 42, 41]\n",
      "63                     [17, 27, 37, 47]\n",
      "64                     [17, 27, 37, 47]\n",
      "65                     [17, 27, 37, 47]\n",
      "66                     [17, 27, 37, 47]\n",
      "67     [11, 12, 41, 42, 31, 32, 21, 22]\n",
      "68     [11, 12, 41, 42, 31, 32, 21, 22]\n",
      "69                     [14, 24, 34, 44]\n",
      "70     [11, 12, 41, 42, 31, 32, 21, 22]\n",
      "71     [11, 12, 41, 42, 31, 32, 21, 22]\n",
      "72     [11, 12, 41, 42, 31, 32, 21, 22]\n",
      "73     [11, 12, 41, 42, 31, 32, 21, 22]\n",
      "74     [11, 12, 41, 42, 31, 32, 21, 22]\n",
      "75                     [13, 23, 33, 43]\n",
      "76                     [17, 27, 37, 47]\n",
      "78                     [13, 23, 33, 43]\n",
      "79                     [45, 35, 25, 15]\n",
      "80                     [13, 23, 33, 43]\n",
      "81                     [16, 26, 36, 46]\n",
      "82                     [16, 26, 36, 46]\n",
      "83                     [13, 23, 33, 43]\n",
      "84                     [16, 26, 36, 46]\n",
      "85                     [16, 26, 36, 46]\n",
      "86                     [16, 26, 36, 46]\n",
      "87                     [16, 26, 36, 46]\n",
      "88                     [13, 23, 33, 43]\n",
      "90     [21, 22, 23, 24, 25, 26, 27, 28]\n",
      "91     [21, 22, 23, 24, 25, 26, 27, 28]\n",
      "92     [11, 12, 13, 14, 15, 16, 17, 18]\n",
      "93                     [18, 28, 38, 48]\n",
      "94                     [14, 24, 34, 44]\n",
      "95                     [14, 24, 34, 44]\n",
      "96     [17, 16, 26, 27, 45, 44, 35, 34]\n",
      "97     [21, 22, 23, 24, 25, 26, 27, 28]\n",
      "98                             [48, 38]\n",
      "99                             [48, 38]\n",
      "100                            [48, 38]\n",
      "101                    [41, 31, 11, 21]\n",
      "102                    [13, 23, 33, 43]\n",
      "103                    [13, 23, 33, 43]\n",
      "Name: Tooth number, dtype: object\n"
     ]
    }
   ],
   "source": [
    "with pd.option_context('display.max_rows', None, 'display.max_columns', None):  # more options can be specified also\n",
    "    print(df[\"Tooth number\"])\n",
    "\n",
    "\n",
    "\n",
    "    \n",
    "    \n",
    "    "
   ]
  },
  {
   "cell_type": "code",
   "execution_count": 112,
   "id": "2b33d2bd",
   "metadata": {},
   "outputs": [],
   "source": [
    "f = lambda l: [int(s) for s in l]\n",
    "df[\"Tooth number\"] = df[\"Tooth number\"].apply(f)"
   ]
  },
  {
   "cell_type": "code",
   "execution_count": 113,
   "id": "938daf58",
   "metadata": {},
   "outputs": [
    {
     "data": {
      "text/plain": [
       "0      [14, 24, 34, 44]\n",
       "1      [14, 24, 34, 44]\n",
       "2      [14, 24, 34, 44]\n",
       "3      [14, 24, 34, 44]\n",
       "4      [41, 31, 11, 21]\n",
       "             ...       \n",
       "99             [48, 38]\n",
       "100            [48, 38]\n",
       "101    [41, 31, 11, 21]\n",
       "102    [13, 23, 33, 43]\n",
       "103    [13, 23, 33, 43]\n",
       "Name: Tooth number, Length: 99, dtype: object"
      ]
     },
     "execution_count": 113,
     "metadata": {},
     "output_type": "execute_result"
    }
   ],
   "source": [
    "df[\"Tooth number\"]"
   ]
  },
  {
   "cell_type": "code",
   "execution_count": 22,
   "id": "fa682b8a",
   "metadata": {},
   "outputs": [
    {
     "data": {
      "text/plain": [
       "5"
      ]
     },
     "execution_count": 22,
     "metadata": {},
     "output_type": "execute_result"
    }
   ],
   "source": [
    "#df.keys()\n",
    "df[\"Tooth number\"] = df[\"Tooth number\"].apply(f)\n",
    "df[\"Tooth number\"].isnull().sum()\n"
   ]
  },
  {
   "cell_type": "code",
   "execution_count": 49,
   "id": "fdb0bffa",
   "metadata": {},
   "outputs": [
    {
     "name": "stdout",
     "output_type": "stream",
     "text": [
      "   A   B   C\n",
      "0  1  16  49\n",
      "1  4  25  64\n",
      "2  9  36  81\n"
     ]
    }
   ],
   "source": [
    "# Create a DataFrame with three columns\n",
    "data = {'A': [1, 2, 3], 'B': [4, 5, 6], 'C': [7, 8, 9]}\n",
    "df = pd.DataFrame(data)\n",
    "\n",
    "# Define a function that squares a number\n",
    "def square(x):\n",
    "    return x**2\n",
    "\n",
    "# Apply the square function to each element of the DataFrame using applymap()\n",
    "result = df.applymap(square)\n",
    "\n",
    "# Display the resulting DataFrame with each element squared\n",
    "print(result)"
   ]
  }
 ],
 "metadata": {
  "kernelspec": {
   "display_name": "Python 3 (ipykernel)",
   "language": "python",
   "name": "python3"
  },
  "language_info": {
   "codemirror_mode": {
    "name": "ipython",
    "version": 3
   },
   "file_extension": ".py",
   "mimetype": "text/x-python",
   "name": "python",
   "nbconvert_exporter": "python",
   "pygments_lexer": "ipython3",
   "version": "3.7.9"
  }
 },
 "nbformat": 4,
 "nbformat_minor": 5
}
