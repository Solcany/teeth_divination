{
 "cells": [
  {
   "cell_type": "code",
   "execution_count": 5,
   "id": "6083d7f7",
   "metadata": {},
   "outputs": [],
   "source": [
    "PREDICT_DF_PATH = \"./output/predict_df.pickle\""
   ]
  },
  {
   "cell_type": "code",
   "execution_count": 6,
   "id": "a536d689",
   "metadata": {},
   "outputs": [],
   "source": [
    "import os\n",
    "import sys\n",
    "import pandas as pd\n",
    "import numpy as np"
   ]
  },
  {
   "cell_type": "code",
   "execution_count": 7,
   "id": "6b28743b",
   "metadata": {},
   "outputs": [],
   "source": [
    "predict_df = pd.read_pickle(PREDICT_DF_PATH)"
   ]
  },
  {
   "cell_type": "code",
   "execution_count": 45,
   "id": "3c8019c4",
   "metadata": {},
   "outputs": [],
   "source": [
    "def get_normalised_distances(positions):\n",
    "    dists = []\n",
    "    for i in range(len(positions)-1):\n",
    "        dist = np.linalg.norm(positions[i]-positions[i+1])\n",
    "        dists.append(dist)\n",
    "    dists = np.array(dists)\n",
    "    max_dist = dists[np.argmax(dists)]\n",
    "    normalised = [d/max_dist for d in dists]\n",
    "    print(normalised)"
   ]
  },
  {
   "cell_type": "code",
   "execution_count": 53,
   "id": "8db9fb98",
   "metadata": {},
   "outputs": [
    {
     "data": {
      "text/plain": [
       "0     [[677.0, 1050.0], [2281.0, 1001.0], [816.0, 20...\n",
       "1     [[677.0, 1050.0], [2281.0, 1001.0], [814.0, 20...\n",
       "2     [[677.0, 1050.0], [2281.0, 1001.0], [813.0, 20...\n",
       "3     [[677.0, 1050.0], [2281.0, 1001.0], [812.0, 20...\n",
       "4     [[677.0, 1050.0], [2281.0, 1001.0], [811.0, 20...\n",
       "5     [[677.0, 1050.0], [2281.0, 1001.0], [807.0, 20...\n",
       "6     [[677.0, 1050.0], [2281.0, 1001.0], [806.0, 20...\n",
       "7     [[675.0, 1054.0], [2283.0, 1004.0], [803.0, 20...\n",
       "8     [[669.0, 1062.0], [2285.0, 1009.0], [801.0, 20...\n",
       "9     [[663.0, 1070.0], [2289.0, 1018.0], [799.0, 20...\n",
       "10    [[662.0, 1073.0], [2299.0, 1034.0], [798.0, 20...\n",
       "11    [[661.0, 1075.0], [2303.0, 1034.0], [802.0, 20...\n",
       "12    [[659.0, 1077.0], [2303.0, 1037.0], [808.0, 20...\n",
       "13    [[659.0, 1078.0], [2305.0, 1039.0], [816.0, 20...\n",
       "14    [[658.0, 1079.0], [2305.0, 1044.0], [816.0, 20...\n",
       "15    [[657.0, 1081.0], [2307.0, 1047.0], [816.0, 20...\n",
       "16    [[655.0, 1085.0], [2308.0, 1050.0], [816.0, 20...\n",
       "17    [[653.0, 1088.0], [2310.0, 1052.0], [816.0, 20...\n",
       "18    [[651.0, 1090.0], [2311.0, 1054.0], [816.0, 20...\n",
       "19    [[648.0, 1096.0], [2314.0, 1057.0], [816.0, 20...\n",
       "20    [[646.0, 1098.0], [2316.0, 1060.0], [816.0, 20...\n",
       "21    [[645.0, 1100.0], [2317.0, 1063.0], [816.0, 20...\n",
       "22    [[644.0, 1103.0], [2320.0, 1065.0], [816.0, 20...\n",
       "23    [[642.0, 1104.0], [2322.0, 1067.0], [816.0, 20...\n",
       "24    [[639.0, 1106.0], [2324.0, 1069.0], [816.0, 20...\n",
       "25    [[637.0, 1108.0], [2325.0, 1071.0], [816.0, 20...\n",
       "26    [[636.0, 1110.0], [2327.0, 1072.0], [816.0, 20...\n",
       "27    [[635.0, 1112.0], [2329.0, 1074.0], [816.0, 20...\n",
       "28    [[635.0, 1112.0], [2329.0, 1075.0], [816.0, 20...\n",
       "Name: 0, dtype: object"
      ]
     },
     "execution_count": 53,
     "metadata": {},
     "output_type": "execute_result"
    }
   ],
   "source": [
    "first_tooth_positions = predict_df.iloc[0]\n",
    "first_tooth_positions"
   ]
  },
  {
   "cell_type": "code",
   "execution_count": 47,
   "id": "f95f9229",
   "metadata": {},
   "outputs": [
    {
     "name": "stdout",
     "output_type": "stream",
     "text": [
      "[0.8868762020184361, 1.0, 0.7897599759213766]\n"
     ]
    }
   ],
   "source": [
    "get_normalised_distances(teeth_positions)"
   ]
  },
  {
   "cell_type": "code",
   "execution_count": null,
   "id": "ea74e8d8",
   "metadata": {},
   "outputs": [],
   "source": []
  }
 ],
 "metadata": {
  "kernelspec": {
   "display_name": "Python 3 (ipykernel)",
   "language": "python",
   "name": "python3"
  },
  "language_info": {
   "codemirror_mode": {
    "name": "ipython",
    "version": 3
   },
   "file_extension": ".py",
   "mimetype": "text/x-python",
   "name": "python",
   "nbconvert_exporter": "python",
   "pygments_lexer": "ipython3",
   "version": "3.7.9"
  }
 },
 "nbformat": 4,
 "nbformat_minor": 5
}
