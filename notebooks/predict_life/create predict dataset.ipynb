{
 "cells": [
  {
   "cell_type": "code",
   "execution_count": 48,
   "id": "77115eb9",
   "metadata": {},
   "outputs": [],
   "source": [
    "import pandas as pd\n",
    "import numpy as np\n",
    "import os\n",
    "import sys\n",
    "\n",
    "utils_path = os.path.abspath('../../utils')\n",
    "sys.path.insert(0, utils_path)\n",
    "\n",
    "from teeth_utils import normalise_teeth_distances"
   ]
  },
  {
   "cell_type": "code",
   "execution_count": 49,
   "id": "fa862d70",
   "metadata": {},
   "outputs": [],
   "source": [
    "FUTURE_BRACE_START_INDEX = 23\n",
    "FUTURE_BRACE_END_INDEX = 41"
   ]
  },
  {
   "cell_type": "code",
   "execution_count": 50,
   "id": "90fffd16",
   "metadata": {},
   "outputs": [],
   "source": [
    "pd.set_option('display.max_columns', None)\n",
    "pd.set_option('display.max_rows', None)\n",
    "pd.options.mode.chained_assignment = None  "
   ]
  },
  {
   "cell_type": "code",
   "execution_count": 51,
   "id": "1dfb2602",
   "metadata": {},
   "outputs": [],
   "source": [
    "MERIDIAN_PATH = \"../../data/life_data/life_sheet_final.csv\"\n",
    "TEETH_UP_PATH = \"../../data/life_data/teeth_up_tracked_data.json\"\n",
    "TEETH_DOWN_PATH = \"../../data/life_data/teeth_down_tracked_data.json\""
   ]
  },
  {
   "cell_type": "code",
   "execution_count": 52,
   "id": "0798e031",
   "metadata": {},
   "outputs": [],
   "source": [
    "teeth_up = pd.read_json(TEETH_UP_PATH)\n",
    "teeth_down = pd.read_json(TEETH_DOWN_PATH)\n",
    "teeth_df = pd.concat([teeth_up, teeth_down])\n",
    "teeth_df = teeth_df.reset_index(drop=True)"
   ]
  },
  {
   "cell_type": "code",
   "execution_count": 53,
   "id": "93b31809",
   "metadata": {},
   "outputs": [],
   "source": [
    "fn = lambda v: {'toothId': v['toothId'], 'toothPositions': normalise_teeth_distances(v['toothPositions'])}\n",
    "teeth_df[\"data\"] = teeth_df[\"data\"].apply(fn)"
   ]
  },
  {
   "cell_type": "code",
   "execution_count": 54,
   "id": "c054e3d1",
   "metadata": {},
   "outputs": [],
   "source": [
    "# set notgrownout teeth positions to 0\n",
    "fn = lambda data: {\"toothId\": data[\"toothId\"], \"toothPositions\": [ 0.0 for v in data[\"toothPositions\"]]}\n",
    "teeth_df[\"data\"][0] = fn(teeth_df[\"data\"][0])\n",
    "teeth_df[\"data\"][15] = fn(teeth_df[\"data\"][15])\n",
    "teeth_df[\"data\"][16] = fn(teeth_df[\"data\"][16])\n",
    "teeth_df[\"data\"][31] = fn(teeth_df[\"data\"][31])"
   ]
  },
  {
   "cell_type": "code",
   "execution_count": 55,
   "id": "782061ce",
   "metadata": {},
   "outputs": [],
   "source": [
    "# convert string teeth indices to ints\n",
    "meridian_df = pd.read_csv(MERIDIAN_PATH)\n",
    "meridian_df.dropna(subset=[\"Tooth number\", \"Domain\"], inplace=True)\n",
    "fn = lambda s: [int(s) for s in s.split(\"-\")]\n",
    "meridian_df[\"Tooth number\"] = meridian_df[\"Tooth number\"].apply(fn)"
   ]
  },
  {
   "cell_type": "code",
   "execution_count": 56,
   "id": "46a8670f",
   "metadata": {},
   "outputs": [],
   "source": [
    "# create the training dataset\n",
    "predict_df = pd.DataFrame() \n",
    "\n",
    "# column represents data based on one of the multiple braces\n",
    "# row is all teeth positions associated with a domain and the value of this domain \n",
    "\n",
    "# loop through meridian rows\n",
    "for row_index, row in meridian_df.iterrows():    \n",
    "    # get the meridian indexes of the relevant teeth\n",
    "    teeth_ids = row[\"Tooth number\"]\n",
    "    # match relevant teeth against all teeth\n",
    "    mask = teeth_df[\"data\"].apply(lambda x: x['toothId'] in teeth_ids)\n",
    "    associated_teeth = teeth_df[\"data\"][mask]\n",
    "    \n",
    "    xs = []\n",
    "    \n",
    "    for brace_index in range(FUTURE_BRACE_START_INDEX, FUTURE_BRACE_END_INDEX):\n",
    "        x = np.full((len(associated_teeth), 2), [-1.0, -1.0])\n",
    "        for tooth_index, tooth in enumerate(associated_teeth):\n",
    "             x[tooth_index] = tooth[\"toothPositions\"][brace_index]\n",
    "        xs.append(x)\n",
    "        \n",
    "    predict_df = predict_df.append(pd.Series(xs), ignore_index=True)"
   ]
  },
  {
   "cell_type": "code",
   "execution_count": 57,
   "id": "a57e551c",
   "metadata": {},
   "outputs": [
    {
     "data": {
      "text/plain": [
       "(98, 18)"
      ]
     },
     "execution_count": 57,
     "metadata": {},
     "output_type": "execute_result"
    }
   ],
   "source": [
    "predict_df.shape"
   ]
  },
  {
   "cell_type": "code",
   "execution_count": 58,
   "id": "6d9cc623",
   "metadata": {},
   "outputs": [],
   "source": [
    "out_dir = os.path.abspath('./output')\n",
    "\n",
    "if not os.path.exists(out_dir):\n",
    "   os.makedirs(out_dir)\n",
    "\n",
    "out_path = os.path.join(out_dir, \"predict_df.pickle\")\n",
    "predict_df.to_pickle(out_path)"
   ]
  },
  {
   "cell_type": "code",
   "execution_count": null,
   "id": "2160cf75",
   "metadata": {},
   "outputs": [],
   "source": []
  }
 ],
 "metadata": {
  "kernelspec": {
   "display_name": "Python 3 (ipykernel)",
   "language": "python",
   "name": "python3"
  },
  "language_info": {
   "codemirror_mode": {
    "name": "ipython",
    "version": 3
   },
   "file_extension": ".py",
   "mimetype": "text/x-python",
   "name": "python",
   "nbconvert_exporter": "python",
   "pygments_lexer": "ipython3",
   "version": "3.7.9"
  }
 },
 "nbformat": 4,
 "nbformat_minor": 5
}
