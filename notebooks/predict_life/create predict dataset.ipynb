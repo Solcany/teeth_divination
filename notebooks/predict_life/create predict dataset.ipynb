{
 "cells": [
  {
   "cell_type": "code",
   "execution_count": 90,
   "id": "77115eb9",
   "metadata": {},
   "outputs": [],
   "source": [
    "import pandas as pd\n",
    "import numpy as np\n",
    "import os\n",
    "import sys\n",
    "\n",
    "utils_path = os.path.abspath('../../utils')\n",
    "sys.path.insert(0, utils_path)\n",
    "\n",
    "from teeth_utils import normalise_tooth_positions"
   ]
  },
  {
   "cell_type": "code",
   "execution_count": 97,
   "id": "fa862d70",
   "metadata": {},
   "outputs": [],
   "source": [
    "FUTURE_BRACE_START_INDEX = 13\n",
    "FUTURE_BRACE_END_INDEX = 42"
   ]
  },
  {
   "cell_type": "code",
   "execution_count": 98,
   "id": "90fffd16",
   "metadata": {},
   "outputs": [],
   "source": [
    "pd.set_option('display.max_columns', None)\n",
    "pd.set_option('display.max_rows', None)"
   ]
  },
  {
   "cell_type": "code",
   "execution_count": 99,
   "id": "1dfb2602",
   "metadata": {},
   "outputs": [],
   "source": [
    "MERIDIAN_PATH = \"../../data/life/Bite Off More Than You Can Chew Braces profile - Sheet.csv\"\n",
    "TEETH_UP_PATH = \"../../data/tracked_teeth_data/teeth_up_tracked_data.json\"\n",
    "TEETH_DOWN_PATH = \"../../data/tracked_teeth_data/teeth_down_tracked_data.json\""
   ]
  },
  {
   "cell_type": "code",
   "execution_count": 100,
   "id": "0798e031",
   "metadata": {},
   "outputs": [],
   "source": [
    "teeth_up = pd.read_json(TEETH_UP_PATH)\n",
    "teeth_down = pd.read_json(TEETH_DOWN_PATH)\n",
    "teeth_df = pd.concat([teeth_up, teeth_down])\n",
    "teeth_df = teeth_df.reset_index(drop=True)\n",
    "\n",
    "#normalise teeth df\n",
    "#fn = lambda v: {'toothId': v['toothId'], 'toothPositions': normalise_tooth_positions(v['toothPositions'])}\n",
    "#teeth_df[\"data\"] = teeth_df[\"data\"].apply(fn)"
   ]
  },
  {
   "cell_type": "code",
   "execution_count": 101,
   "id": "782061ce",
   "metadata": {},
   "outputs": [],
   "source": [
    "# convert string teeth indices to ints\n",
    "meridian_df = pd.read_csv(MERIDIAN_PATH)\n",
    "meridian_df.dropna(subset=[\"Tooth number\", \"Domain\"], inplace=True)\n",
    "fn = lambda s: [int(s) for s in s.split(\"-\")]\n",
    "meridian_df[\"Tooth number\"] = meridian_df[\"Tooth number\"].apply(fn)"
   ]
  },
  {
   "cell_type": "code",
   "execution_count": 102,
   "id": "46a8670f",
   "metadata": {},
   "outputs": [],
   "source": [
    "# create the training dataset\n",
    "predict_df = pd.DataFrame() \n",
    "\n",
    "# column represents data based on one of the multiple braces\n",
    "# row is all teeth positions associated with a domain and the value of this domain \n",
    "\n",
    "# loop through meridian rows\n",
    "for row_index, row in meridian_df.iterrows():    \n",
    "    # get the meridian indexes of the relevant teeth\n",
    "    teeth_ids = row[\"Tooth number\"]\n",
    "    # match relevant teeth against all teeth\n",
    "    mask = teeth_df[\"data\"].apply(lambda x: x['toothId'] in teeth_ids)\n",
    "    associated_teeth = teeth_df[\"data\"][mask]\n",
    "    # get bool mask of the associated teeth\n",
    "    mask = teeth_df[\"data\"].isin(associated_teeth)\n",
    "    # get the indexes of the associated teeth \n",
    "    associated_teeth_indexes = np.flatnonzero(mask)\n",
    "    \n",
    "    xs = []\n",
    "    \n",
    "    for brace_index in range(FUTURE_BRACE_START_INDEX, FUTURE_BRACE_END_INDEX):\n",
    "        x = np.full((len(associated_teeth), 2), [-1.0, -1.0])\n",
    "        for tooth_index, tooth in enumerate(associated_teeth):\n",
    "             x[tooth_index] = tooth[\"toothPositions\"][brace_index]\n",
    "        xs.append(x)\n",
    "        \n",
    "    predict_df = predict_df.append(pd.Series(xs), ignore_index=True)"
   ]
  },
  {
   "cell_type": "code",
   "execution_count": 103,
   "id": "6d9cc623",
   "metadata": {},
   "outputs": [],
   "source": [
    "out_dir = os.path.abspath('./output')\n",
    "\n",
    "if not os.path.exists(out_dir):\n",
    "   os.makedirs(out_dir)\n",
    "\n",
    "out_path = os.path.join(out_dir, \"predict_df.pickle\")\n",
    "predict_df.to_pickle(out_path)"
   ]
  },
  {
   "cell_type": "code",
   "execution_count": null,
   "id": "2160cf75",
   "metadata": {},
   "outputs": [],
   "source": []
  }
 ],
 "metadata": {
  "kernelspec": {
   "display_name": "Python 3 (ipykernel)",
   "language": "python",
   "name": "python3"
  },
  "language_info": {
   "codemirror_mode": {
    "name": "ipython",
    "version": 3
   },
   "file_extension": ".py",
   "mimetype": "text/x-python",
   "name": "python",
   "nbconvert_exporter": "python",
   "pygments_lexer": "ipython3",
   "version": "3.7.9"
  }
 },
 "nbformat": 4,
 "nbformat_minor": 5
}
