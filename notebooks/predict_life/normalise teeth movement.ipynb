{
 "cells": [
  {
   "cell_type": "code",
   "execution_count": 8,
   "id": "8d7c97d4",
   "metadata": {},
   "outputs": [],
   "source": [
    "import numpy as np\n",
    "import math \n",
    "from collections import namedtuple"
   ]
  },
  {
   "cell_type": "code",
   "execution_count": 9,
   "id": "aa0b399f",
   "metadata": {},
   "outputs": [],
   "source": [
    "width = 1000\n",
    "height = 1000"
   ]
  },
  {
   "cell_type": "code",
   "execution_count": 34,
   "id": "b4097a34",
   "metadata": {},
   "outputs": [],
   "source": [
    "def dist(p1, p2) -> float:\n",
    "    return math.hypot(p2[0] - p1[0], p2[1] - p1[1])"
   ]
  },
  {
   "cell_type": "code",
   "execution_count": 35,
   "id": "435e36a5",
   "metadata": {},
   "outputs": [],
   "source": [
    "pos = np.array([(200, 400), (250, 450), (225, 425)])"
   ]
  },
  {
   "cell_type": "code",
   "execution_count": 37,
   "id": "14d5da79",
   "metadata": {},
   "outputs": [
    {
     "data": {
      "text/plain": [
       "array([[250, 450],\n",
       "       [225, 425]])"
      ]
     },
     "execution_count": 37,
     "metadata": {},
     "output_type": "execute_result"
    }
   ],
   "source": []
  },
  {
   "cell_type": "code",
   "execution_count": 45,
   "id": "66fa250e",
   "metadata": {},
   "outputs": [
    {
     "data": {
      "text/plain": [
       "array([70.71067812, 35.35533906])"
      ]
     },
     "execution_count": 45,
     "metadata": {},
     "output_type": "execute_result"
    }
   ],
   "source": [
    "first_pos = pos[0]\n",
    "rest_pos = pos[1:]\n",
    "\n",
    "f = lambda pos: dist(first_pos, pos)\n",
    "distances = np.array([f(pos) for pos in rest_pos])\n",
    "farthest = np.argmax(distances)\n"
   ]
  },
  {
   "cell_type": "code",
   "execution_count": null,
   "id": "990a69d6",
   "metadata": {},
   "outputs": [],
   "source": []
  },
  {
   "cell_type": "code",
   "execution_count": null,
   "id": "32b432e7",
   "metadata": {},
   "outputs": [],
   "source": []
  }
 ],
 "metadata": {
  "kernelspec": {
   "display_name": "Python 3 (ipykernel)",
   "language": "python",
   "name": "python3"
  },
  "language_info": {
   "codemirror_mode": {
    "name": "ipython",
    "version": 3
   },
   "file_extension": ".py",
   "mimetype": "text/x-python",
   "name": "python",
   "nbconvert_exporter": "python",
   "pygments_lexer": "ipython3",
   "version": "3.7.9"
  }
 },
 "nbformat": 4,
 "nbformat_minor": 5
}
