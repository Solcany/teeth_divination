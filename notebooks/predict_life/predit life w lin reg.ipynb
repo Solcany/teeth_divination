{
 "cells": [
  {
   "cell_type": "code",
   "execution_count": 2,
   "id": "6a90ae58",
   "metadata": {},
   "outputs": [],
   "source": [
    "import pandas as pd\n",
    "import numpy as np\n",
    "import os\n",
    "from sklearn.linear_model import LinearRegression"
   ]
  },
  {
   "cell_type": "code",
   "execution_count": 3,
   "id": "c8690d94",
   "metadata": {},
   "outputs": [],
   "source": [
    "pd.set_option('display.max_columns', None)\n",
    "pd.set_option('display.max_rows', None)"
   ]
  },
  {
   "cell_type": "code",
   "execution_count": 4,
   "id": "33a4011d",
   "metadata": {},
   "outputs": [],
   "source": [
    "train_df_path = os.path.abspath('./output/train_df.pickle')\n",
    "train_df = pd.read_pickle(train_df_path)"
   ]
  },
  {
   "cell_type": "code",
   "execution_count": 49,
   "id": "29622e1d",
   "metadata": {},
   "outputs": [],
   "source": [
    "models = []\n",
    "# each model belongs to a domain\n",
    "for row_index, row in train_df.iterrows():\n",
    "     features = [sublist[0] for sublist in row]\n",
    "     features = [f.flatten() for f in features]\n",
    "     target = [sublist[1] for sublist in row]\n",
    "     model = LinearRegression()\n",
    "     model.fit(features, target)\n",
    "     models.append(model)"
   ]
  },
  {
   "cell_type": "code",
   "execution_count": 59,
   "id": "64245f81",
   "metadata": {},
   "outputs": [
    {
     "data": {
      "text/plain": [
       "array([2., 3.])"
      ]
     },
     "execution_count": 59,
     "metadata": {},
     "output_type": "execute_result"
    }
   ],
   "source": [
    "# test models\n",
    "row = train_df.iloc[8]\n",
    "features = [sublist[0] for sublist in row]\n",
    "features = [f.flatten() for f in features]\n",
    "models[8].predict(features)"
   ]
  }
 ],
 "metadata": {
  "kernelspec": {
   "display_name": "Python 3 (ipykernel)",
   "language": "python",
   "name": "python3"
  },
  "language_info": {
   "codemirror_mode": {
    "name": "ipython",
    "version": 3
   },
   "file_extension": ".py",
   "mimetype": "text/x-python",
   "name": "python",
   "nbconvert_exporter": "python",
   "pygments_lexer": "ipython3",
   "version": "3.7.9"
  }
 },
 "nbformat": 4,
 "nbformat_minor": 5
}
