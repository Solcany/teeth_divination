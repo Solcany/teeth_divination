{
 "cells": [
  {
   "cell_type": "code",
   "execution_count": 27,
   "id": "90b4762d",
   "metadata": {},
   "outputs": [],
   "source": [
    "import pandas as pd\n",
    "import numpy as np\n",
    "import matplotlib.pyplot as plt\n",
    "import seaborn as sns\n",
    "sns.set_style('darkgrid')\n",
    "from sklearn.linear_model import LinearRegression\n",
    "from sklearn import datasets"
   ]
  },
  {
   "cell_type": "code",
   "execution_count": 3,
   "id": "655ae8d1",
   "metadata": {},
   "outputs": [],
   "source": [
    "data = datasets.fetch_california_housing()"
   ]
  },
  {
   "cell_type": "code",
   "execution_count": 22,
   "id": "4a365212",
   "metadata": {},
   "outputs": [],
   "source": [
    "features = pd.DataFrame(data.data[:1000], columns=data.feature_names)\n",
    "target = pd.DataFrame(data.target[:1000], columns=[\"MEDV\"])"
   ]
  },
  {
   "cell_type": "code",
   "execution_count": 23,
   "id": "59b7392a",
   "metadata": {},
   "outputs": [],
   "source": [
    "model = LinearRegression()\n",
    "model.fit(features, target)\n",
    "preds = model.predict(features)"
   ]
  },
  {
   "cell_type": "code",
   "execution_count": 29,
   "id": "10fc8ba7",
   "metadata": {},
   "outputs": [
    {
     "data": {
      "text/plain": [
       "MedInc          8.325200\n",
       "HouseAge       41.000000\n",
       "AveRooms        6.984127\n",
       "AveBedrms       1.023810\n",
       "Population    322.000000\n",
       "AveOccup        2.555556\n",
       "Latitude       37.880000\n",
       "Longitude    -122.230000\n",
       "Name: 0, dtype: float64"
      ]
     },
     "execution_count": 29,
     "metadata": {},
     "output_type": "execute_result"
    }
   ],
   "source": [
    "features.iloc[0]"
   ]
  },
  {
   "cell_type": "code",
   "execution_count": 24,
   "id": "2c8d9ef5",
   "metadata": {},
   "outputs": [
    {
     "name": "stdout",
     "output_type": "stream",
     "text": [
      "    MEDV\n",
      "0  4.526\n",
      "1  3.585\n",
      "2  3.521\n",
      "3  3.413\n",
      "4  3.422\n",
      "[[4.00656692]\n",
      " [4.21426151]\n",
      " [3.49673733]\n",
      " [2.93384659]\n",
      " [2.2918018 ]]\n"
     ]
    }
   ],
   "source": [
    "print(target[:5])\n",
    "print(preds[:5])"
   ]
  },
  {
   "cell_type": "code",
   "execution_count": 25,
   "id": "7997ce27",
   "metadata": {},
   "outputs": [
    {
     "data": {
      "text/plain": [
       "0.640388948309695"
      ]
     },
     "execution_count": 25,
     "metadata": {},
     "output_type": "execute_result"
    }
   ],
   "source": [
    "model.score(features,target)"
   ]
  },
  {
   "cell_type": "code",
   "execution_count": 26,
   "id": "d9d3e382",
   "metadata": {},
   "outputs": [
    {
     "name": "stdout",
     "output_type": "stream",
     "text": [
      "MSE 0.284805114776541\n"
     ]
    }
   ],
   "source": [
    "from sklearn.metrics import mean_squared_error\n",
    "print('MSE', mean_squared_error(target, preds))"
   ]
  },
  {
   "cell_type": "code",
   "execution_count": null,
   "id": "d8c2f45c",
   "metadata": {},
   "outputs": [],
   "source": []
  }
 ],
 "metadata": {
  "kernelspec": {
   "display_name": "Python 3 (ipykernel)",
   "language": "python",
   "name": "python3"
  },
  "language_info": {
   "codemirror_mode": {
    "name": "ipython",
    "version": 3
   },
   "file_extension": ".py",
   "mimetype": "text/x-python",
   "name": "python",
   "nbconvert_exporter": "python",
   "pygments_lexer": "ipython3",
   "version": "3.7.9"
  }
 },
 "nbformat": 4,
 "nbformat_minor": 5
}
